{
 "cells": [
  {
   "cell_type": "code",
   "execution_count": 13,
   "id": "334ac28b-d7f4-4f6c-ae4a-bad241337d6f",
   "metadata": {
    "tags": []
   },
   "outputs": [
    {
     "name": "stdout",
     "output_type": "stream",
     "text": [
      "Yor Random paswword is:   Lg1Rz2\n"
     ]
    }
   ],
   "source": [
    "# randon-pasword-\n",
    "#Random Password generator using python\n",
    "import random\n",
    "\n",
    "alphabests = [\"A\",\"B\",\"C\",\"D\",\"E\",\"F\",\"G\",\"H\",\"I\",\"K\",\"L\",\"M\",\"N\",\"O\",\"P\",\"Q\",\"R\",\"S\",\"T\",\"U\",\"W\",\"X\",\"Y\",\"Z\"]\n",
    "\n",
    "small = ['a','b','c','d','e','f','g','h','i','j','k','l','m','n','o','p','q','r','s','t','u','v','w','x','y','z']\n",
    "\n",
    "numbers =[1,2,3,4,5,6,7,8,9,0]\n",
    "\n",
    "ran_1 = random.choice(alphabests) + random.choice(small) + str(random.choice(numbers)) \n",
    "ran_2 = random.choice(alphabests) + random.choice(small) + str(random.choice(numbers)) \n",
    "print('Yor Random paswword is:  ',ran_1 + ran_2)"
   ]
  },
  {
   "cell_type": "code",
   "execution_count": null,
   "id": "127f2c52-6f8a-4c8e-a53e-c91b23ab56e3",
   "metadata": {},
   "outputs": [],
   "source": []
  }
 ],
 "metadata": {
  "kernelspec": {
   "display_name": "Python 3 (ipykernel)",
   "language": "python",
   "name": "python3"
  },
  "language_info": {
   "codemirror_mode": {
    "name": "ipython",
    "version": 3
   },
   "file_extension": ".py",
   "mimetype": "text/x-python",
   "name": "python",
   "nbconvert_exporter": "python",
   "pygments_lexer": "ipython3",
   "version": "3.10.11"
  }
 },
 "nbformat": 4,
 "nbformat_minor": 5
}
